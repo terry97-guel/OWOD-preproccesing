{
 "cells": [
  {
   "cell_type": "code",
   "execution_count": null,
   "metadata": {},
   "outputs": [],
   "source": [
    "# import library\n",
    "\n",
    "import os\n",
    "from shutil import copy\n",
    "import xml.etree.ElementTree as ET\n",
    "import xml\n",
    "from xml.dom import minidom\n",
    "import cv2"
   ]
  },
  {
   "cell_type": "code",
   "execution_count": null,
   "metadata": {},
   "outputs": [],
   "source": [
    "datapath = '../../dataset/Annotations'\n",
    "xmllspath = '../../dataset/t1_train.txt'\n",
    "# xmlls = os.listdir(datapath)\n",
    "imagepath = '../../dataset/JPEGImages'\n",
    "VOC_CLASS_NAMES = [\n",
    "    \"aeroplane\", \"bicycle\", \"bird\", \"boat\", \"bottle\", \"bus\", \"car\", \"cat\",\n",
    "    \"chair\", \"cow\", \"diningtable\", \"dog\", \"horse\", \"motorbike\", \"person\",\n",
    "    \"pottedplant\", \"sheep\", \"sofa\", \"train\", \"tvmonitor\"\n",
    "]\n",
    "VOC_CLASS_NAMES_COCOFIED = [\n",
    "    \"airplane\", \"bicycle\", \"bird\", \"boat\", \"bottle\", \"bus\", \"car\", \"cat\",\n",
    "    \"chair\", \"cow\", \"dining table\", \"dog\", \"horse\", \"motorcycle\", \"person\",\n",
    "    \"potted plant\", \"sheep\", \"couch\", \"train\", \"tv\"\n",
    "]\n",
    "\n",
    "VOCclass = set(VOC_CLASS_NAMES).union(set(VOC_CLASS_NAMES_COCOFIED))\n"
   ]
  },
  {
   "cell_type": "code",
   "execution_count": null,
   "metadata": {},
   "outputs": [],
   "source": [
    "with open(xmllspath, newline='') as f:\n",
    "    data = f.read()\n",
    "\n",
    "\n",
    "xmlls = data.split(\"\\n\")\n",
    "\n",
    "while '' in xmlls:\n",
    "    xmlls.remove('')\n",
    "\n",
    "xmlls = [data+'.xml' for data in xmlls]"
   ]
  },
  {
   "cell_type": "code",
   "execution_count": null,
   "metadata": {},
   "outputs": [],
   "source": [
    "count = 0\n",
    "for idx, singleXml in enumerate(xmlls):\n",
    "    xmlname = os.path.join(datapath,singleXml)\n",
    "    doc = ET.parse(xmlname)\n",
    "    root = doc.getroot()\n",
    "    imagename = root.find('filename').text\n",
    "    filepath = os.path.join('../../dataset/JPEGImages',imagename)\n",
    "    objects = root.iter('object')\n",
    "\n",
    "    for annotation in objects:\n",
    "        name = annotation.find('name').text\n",
    "        bndbox = annotation.find('bndbox')\n",
    "\n",
    "        # x_l = int(bndbox.find('ymin').text)\n",
    "        # y_b = int(bndbox.find('xmin').text)\n",
    "        # x_r = int(bndbox.find('ymax').text)\n",
    "        # y_u = int(bndbox.find('xmax').text)\n",
    "\n",
    "        if name in VOCclass:\n",
    "            count = count + 1\n",
    "\n",
    "print(count)\n"
   ]
  },
  {
   "cell_type": "code",
   "execution_count": null,
   "metadata": {},
   "outputs": [],
   "source": [
    "objects = root.iter('object')"
   ]
  },
  {
   "cell_type": "code",
   "execution_count": null,
   "metadata": {},
   "outputs": [],
   "source": [
    "annotation = next(objects)\n",
    "\n",
    "name = annotation.find('name').text\n",
    "bndbox = annotation.find('bndbox')\n",
    "\n",
    "\n",
    "x_l = int(bndbox.find('ymin').text)\n",
    "y_b = int(bndbox.find('xmin').text)\n",
    "x_r = int(bndbox.find('ymax').text)\n",
    "y_u = int(bndbox.find('xmax').text)\n",
    "\n"
   ]
  },
  {
   "cell_type": "code",
   "execution_count": null,
   "metadata": {},
   "outputs": [],
   "source": [
    "src = cv2.imread(filepath)\n",
    "crop = src[x_l:x_r,y_b:y_u,:]\n",
    "\n",
    "y = y_u-y_b\n",
    "x = x_r-x_l\n",
    "length = max(x, y)\n",
    "\n",
    "top = int(length/2 - x/2)\n",
    "bottom = int(length/2 - x/2)\n",
    "left = int(length/2 - y/2)\n",
    "right = int(length/2 - y/2)\n",
    "\n",
    "borderType = cv2.BORDER_CONSTANT\n",
    "crop = cv2.copyMakeBorder(crop, top, bottom, left, right, borderType)\n",
    "crop = cv2.resize(crop,(256,256))"
   ]
  },
  {
   "cell_type": "code",
   "execution_count": null,
   "metadata": {},
   "outputs": [],
   "source": [
    "from matplotlib import pyplot as plt\n",
    "plt.imshow(cv2.cvtColor(crop, cv2.COLOR_BGR2RGB))"
   ]
  },
  {
   "cell_type": "code",
   "execution_count": null,
   "metadata": {},
   "outputs": [],
   "source": [
    "plt.imshow(cv2.cvtColor(src, cv2.COLOR_BGR2RGB))"
   ]
  },
  {
   "cell_type": "code",
   "execution_count": null,
   "metadata": {},
   "outputs": [],
   "source": [
    "xmlstr = minidom.parseString(ET.tostring(root)).toprettyxml(indent=\"   \")\n",
    "print(xmlstr)"
   ]
  }
 ],
 "metadata": {
  "language_info": {
   "name": "python"
  },
  "orig_nbformat": 4
 },
 "nbformat": 4,
 "nbformat_minor": 2
}
