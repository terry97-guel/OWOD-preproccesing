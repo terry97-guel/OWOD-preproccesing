{
 "cells": [
  {
   "cell_type": "code",
   "execution_count": 20,
   "metadata": {},
   "outputs": [],
   "source": [
    "# import library\n",
    "\n",
    "import os\n",
    "from shutil import copy\n",
    "import xml.etree.ElementTree as ET\n",
    "import xml\n",
    "from xml.dom import minidom\n",
    "import cv2"
   ]
  },
  {
   "cell_type": "code",
   "execution_count": 21,
   "metadata": {},
   "outputs": [],
   "source": [
    "datapath = '../../dataset/Annotations'\n",
    "xmllspath = '../../dataset/t1_train.txt'\n",
    "imagepath = '../../dataset/JPEGImages'\n",
    "savedir = '../../dataset/cropImages'\n",
    "\n",
    "VOC_CLASS_NAMES = [\n",
    "    \"aeroplane\", \"bicycle\", \"bird\", \"boat\", \"bottle\", \"bus\", \"car\", \"cat\",\n",
    "    \"chair\", \"cow\", \"diningtable\", \"dog\", \"horse\", \"motorbike\", \"person\",\n",
    "    \"pottedplant\", \"sheep\", \"sofa\", \"train\", \"tvmonitor\"\n",
    "]\n",
    "VOC_CLASS_NAMES_COCOFIED = [\n",
    "    \"airplane\", \"bicycle\", \"bird\", \"boat\", \"bottle\", \"bus\", \"car\", \"cat\",\n",
    "    \"chair\", \"cow\", \"dining table\", \"dog\", \"horse\", \"motorcycle\", \"person\",\n",
    "    \"potted plant\", \"sheep\", \"couch\", \"train\", \"tv\"\n",
    "]\n",
    "\n",
    "VOCclass = set(VOC_CLASS_NAMES).union(set(VOC_CLASS_NAMES_COCOFIED))\n"
   ]
  },
  {
   "cell_type": "code",
   "execution_count": 22,
   "metadata": {},
   "outputs": [],
   "source": [
    "with open(xmllspath, newline='') as f:\n",
    "    data = f.read()\n",
    "\n",
    "\n",
    "xmlls = data.split(\"\\n\")\n",
    "\n",
    "while '' in xmlls:\n",
    "    xmlls.remove('')\n",
    "\n",
    "xmlls = [data+'.xml' for data in xmlls]"
   ]
  },
  {
   "cell_type": "code",
   "execution_count": 24,
   "metadata": {},
   "outputs": [],
   "source": [
    "for idx, singleXml in enumerate(xmlls):\n",
    "    \n",
    "    xmlname = os.path.join(datapath,singleXml)\n",
    "    doc = ET.parse(xmlname)\n",
    "    root = doc.getroot()\n",
    "    imagename = root.find('filename').text\n",
    "    filepath = os.path.join('../../dataset/JPEGImages',imagename)\n",
    "    objects = root.iter('object')\n",
    "\n",
    "    for annotation in objects:\n",
    "        name = annotation.find('name').text\n",
    "        \n",
    "\n",
    "        \n",
    "        if name in VOCclass:\n",
    "            # change name to COCO categories\n",
    "            if name in VOC_CLASS_NAMES:\n",
    "                id = VOC_CLASS_NAMES.index(name)\n",
    "                name = VOC_CLASS_NAMES_COCOFIED[id]\n",
    "            \n",
    "            # get bbox\n",
    "            bndbox = annotation.find('bndbox')\n",
    "            \n",
    "            x_l = int(bndbox.find('ymin').text)\n",
    "            y_b = int(bndbox.find('xmin').text)\n",
    "            x_r = int(bndbox.find('ymax').text)\n",
    "            y_u = int(bndbox.find('xmax').text)\n",
    "\n",
    "            src = cv2.imread(filepath)\n",
    "            crop = src[x_l:x_r,y_b:y_u,:]\n",
    "\n",
    "            y = y_u-y_b\n",
    "            x = x_r-x_l\n",
    "            length = max(x, y)\n",
    "\n",
    "            top = int(length/2 - x/2)\n",
    "            bottom = int(length/2 - x/2)\n",
    "            left = int(length/2 - y/2)\n",
    "            right = int(length/2 - y/2)\n",
    "\n",
    "            borderType = cv2.BORDER_CONSTANT\n",
    "            crop = cv2.copyMakeBorder(crop, top, bottom, left, right, borderType)\n",
    "            crop = cv2.resize(crop,(256,256))\n",
    "\n",
    "            # if no dir make one\n",
    "            savepath = os.path.join(savedir,name)\n",
    "            if not(os.path.exists(savepath)):\n",
    "                os.makedirs(savepath)\n",
    "            \n",
    "            imgname = name + \"_\" + imagename\n",
    "            cropimagepath = os.path.join(savepath,imgname)\n",
    "\n",
    "            \n",
    "            # save to dir\n",
    "            cv2.imwrite(cropimagepath,crop)\n",
    "\n"
   ]
  },
  {
   "cell_type": "code",
   "execution_count": 19,
   "metadata": {},
   "outputs": [
    {
     "data": {
      "text/plain": [
       "0"
      ]
     },
     "execution_count": 19,
     "metadata": {},
     "output_type": "execute_result"
    }
   ],
   "source": [
    "name = 'aeroplane'\n"
   ]
  },
  {
   "cell_type": "code",
   "execution_count": 18,
   "metadata": {},
   "outputs": [
    {
     "name": "stdout",
     "output_type": "stream",
     "text": [
      "<?xml version=\"1.0\" ?>\n",
      "<annotation>\n",
      "   <filename>000000056679.jpg</filename>\n",
      "   <size>\n",
      "      <width>426</width>\n",
      "      <height>640</height>\n",
      "      <depth>3</depth>\n",
      "   </size>\n",
      "   <object>\n",
      "      <name>person</name>\n",
      "      <difficult>0</difficult>\n",
      "      <bndbox>\n",
      "         <xmin>180</xmin>\n",
      "         <ymin>272</ymin>\n",
      "         <xmax>268</xmax>\n",
      "         <ymax>384</ymax>\n",
      "      </bndbox>\n",
      "   </object>\n",
      "   <object>\n",
      "      <name>person</name>\n",
      "      <difficult>0</difficult>\n",
      "      <bndbox>\n",
      "         <xmin>398</xmin>\n",
      "         <ymin>310</ymin>\n",
      "         <xmax>426</xmax>\n",
      "         <ymax>411</ymax>\n",
      "      </bndbox>\n",
      "   </object>\n",
      "   <object>\n",
      "      <name>person</name>\n",
      "      <difficult>0</difficult>\n",
      "      <bndbox>\n",
      "         <xmin>352</xmin>\n",
      "         <ymin>321</ymin>\n",
      "         <xmax>366</xmax>\n",
      "         <ymax>352</ymax>\n",
      "      </bndbox>\n",
      "   </object>\n",
      "   <object>\n",
      "      <name>person</name>\n",
      "      <difficult>0</difficult>\n",
      "      <bndbox>\n",
      "         <xmin>310</xmin>\n",
      "         <ymin>334</ymin>\n",
      "         <xmax>328</xmax>\n",
      "         <ymax>359</ymax>\n",
      "      </bndbox>\n",
      "   </object>\n",
      "   <object>\n",
      "      <name>person</name>\n",
      "      <difficult>0</difficult>\n",
      "      <bndbox>\n",
      "         <xmin>327</xmin>\n",
      "         <ymin>331</ymin>\n",
      "         <xmax>341</xmax>\n",
      "         <ymax>366</ymax>\n",
      "      </bndbox>\n",
      "   </object>\n",
      "   <object>\n",
      "      <name>snowboard</name>\n",
      "      <difficult>0</difficult>\n",
      "      <bndbox>\n",
      "         <xmin>158</xmin>\n",
      "         <ymin>374</ymin>\n",
      "         <xmax>245</xmax>\n",
      "         <ymax>380</ymax>\n",
      "      </bndbox>\n",
      "   </object>\n",
      "   <object>\n",
      "      <name>person</name>\n",
      "      <difficult>0</difficult>\n",
      "      <bndbox>\n",
      "         <xmin>256</xmin>\n",
      "         <ymin>335</ymin>\n",
      "         <xmax>275</xmax>\n",
      "         <ymax>402</ymax>\n",
      "      </bndbox>\n",
      "   </object>\n",
      "   <object>\n",
      "      <name>person</name>\n",
      "      <difficult>0</difficult>\n",
      "      <bndbox>\n",
      "         <xmin>248</xmin>\n",
      "         <ymin>355</ymin>\n",
      "         <xmax>258</xmax>\n",
      "         <ymax>369</ymax>\n",
      "      </bndbox>\n",
      "   </object>\n",
      "   <object>\n",
      "      <name>person</name>\n",
      "      <difficult>0</difficult>\n",
      "      <bndbox>\n",
      "         <xmin>322</xmin>\n",
      "         <ymin>332</ymin>\n",
      "         <xmax>330</xmax>\n",
      "         <ymax>341</ymax>\n",
      "      </bndbox>\n",
      "   </object>\n",
      "   <object>\n",
      "      <name>person</name>\n",
      "      <difficult>0</difficult>\n",
      "      <bndbox>\n",
      "         <xmin>300</xmin>\n",
      "         <ymin>344</ymin>\n",
      "         <xmax>314</xmax>\n",
      "         <ymax>378</ymax>\n",
      "      </bndbox>\n",
      "   </object>\n",
      "   <object>\n",
      "      <name>person</name>\n",
      "      <difficult>0</difficult>\n",
      "      <bndbox>\n",
      "         <xmin>286</xmin>\n",
      "         <ymin>346</ymin>\n",
      "         <xmax>304</xmax>\n",
      "         <ymax>370</ymax>\n",
      "      </bndbox>\n",
      "   </object>\n",
      "   <object>\n",
      "      <name>person</name>\n",
      "      <difficult>0</difficult>\n",
      "      <bndbox>\n",
      "         <xmin>299</xmin>\n",
      "         <ymin>337</ymin>\n",
      "         <xmax>309</xmax>\n",
      "         <ymax>359</ymax>\n",
      "      </bndbox>\n",
      "   </object>\n",
      "</annotation>\n",
      "\n"
     ]
    }
   ],
   "source": [
    "xmlstr = minidom.parseString(ET.tostring(root)).toprettyxml(indent=\"   \")\n",
    "print(xmlstr)"
   ]
  },
  {
   "cell_type": "code",
   "execution_count": 13,
   "metadata": {},
   "outputs": [
    {
     "data": {
      "text/plain": [
       "<matplotlib.image.AxesImage at 0x7efdd3608f90>"
      ]
     },
     "execution_count": 13,
     "metadata": {},
     "output_type": "execute_result"
    },
    {
     "data": {
      "image/png": "[encoded data removed]",
      "text/plain": [
       "<Figure size 432x288 with 1 Axes>"
      ]
     },
     "metadata": {
      "needs_background": "light"
     },
     "output_type": "display_data"
    }
   ],
   "source": [
    "from matplotlib import pyplot as plt\n",
    "plt.imshow(cv2.cvtColor(crop, cv2.COLOR_BGR2RGB))"
   ]
  }
 ],
 "metadata": {
  "interpreter": {
   "hash": "0f4f9ba6877253e46a4d4cbe9c032df06bfc4d0e1ba733ff749f20f309e2b244"
  },
  "kernelspec": {
   "display_name": "Python 3.7.12 64-bit ('detectron2': pyenv)",
   "language": "python",
   "name": "python3"
  },
  "language_info": {
   "codemirror_mode": {
    "name": "ipython",
    "version": 3
   },
   "file_extension": ".py",
   "mimetype": "text/x-python",
   "name": "python",
   "nbconvert_exporter": "python",
   "pygments_lexer": "ipython3",
   "version": "3.7.12"
  },
  "orig_nbformat": 4
 },
 "nbformat": 4,
 "nbformat_minor": 2
}
