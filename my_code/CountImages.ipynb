{
 "cells": [
  {
   "cell_type": "code",
   "execution_count": 12,
   "metadata": {},
   "outputs": [],
   "source": [
    "# import library\n",
    "\n",
    "import os\n",
    "from shutil import copy\n",
    "import xml.etree.ElementTree as ET\n",
    "import xml\n",
    "from xml.dom import minidom\n",
    "import cv2"
   ]
  },
  {
   "cell_type": "code",
   "execution_count": 13,
   "metadata": {},
   "outputs": [],
   "source": [
    "datapath = '../../dataset/Annotations'\n",
    "xmllspath = '../../dataset/t1_train.txt'\n",
    "# xmlls = os.listdir(datapath)\n",
    "imagepath = '../../dataset/JPEGImages'\n",
    "VOC_CLASS_NAMES = [\n",
    "    \"aeroplane\", \"bicycle\", \"bird\", \"boat\", \"bottle\", \"bus\", \"car\", \"cat\",\n",
    "    \"chair\", \"cow\", \"diningtable\", \"dog\", \"horse\", \"motorbike\", \"person\",\n",
    "    \"pottedplant\", \"sheep\", \"sofa\", \"train\", \"tvmonitor\"\n",
    "]\n",
    "VOC_CLASS_NAMES_COCOFIED = [\n",
    "    \"airplane\", \"bicycle\", \"bird\", \"boat\", \"bottle\", \"bus\", \"car\", \"cat\",\n",
    "    \"chair\", \"cow\", \"dining table\", \"dog\", \"horse\", \"motorcycle\", \"person\",\n",
    "    \"potted plant\", \"sheep\", \"couch\", \"train\", \"tv\"\n",
    "]\n",
    "\n",
    "VOCclass = set(VOC_CLASS_NAMES).union(set(VOC_CLASS_NAMES_COCOFIED))\n"
   ]
  },
  {
   "cell_type": "code",
   "execution_count": 23,
   "metadata": {},
   "outputs": [],
   "source": [
    "with open(xmllspath, newline='') as f:\n",
    "    data = f.read()\n",
    "\n",
    "\n",
    "xmlls = data.split(\"\\n\")\n",
    "\n",
    "while '' in xmlls:\n",
    "    xmlls.remove('')\n",
    "\n",
    "xmlls = [data+'.xml' for data in xmlls]"
   ]
  },
  {
   "cell_type": "code",
   "execution_count": 26,
   "metadata": {},
   "outputs": [
    {
     "name": "stdout",
     "output_type": "stream",
     "text": [
      "47223\n"
     ]
    }
   ],
   "source": [
    "count = 0\n",
    "for idx, singleXml in enumerate(xmlls):\n",
    "    xmlname = os.path.join(datapath,singleXml)\n",
    "    doc = ET.parse(xmlname)\n",
    "    root = doc.getroot()\n",
    "    imagename = root.find('filename').text\n",
    "    filepath = os.path.join('../../dataset/JPEGImages',imagename)\n",
    "    objects = root.iter('object')\n",
    "\n",
    "    for annotation in objects:\n",
    "        name = annotation.find('name').text\n",
    "        bndbox = annotation.find('bndbox')\n",
    "\n",
    "        # x_l = int(bndbox.find('ymin').text)\n",
    "        # y_b = int(bndbox.find('xmin').text)\n",
    "        # x_r = int(bndbox.find('ymax').text)\n",
    "        # y_u = int(bndbox.find('xmax').text)\n",
    "\n",
    "        if name in VOCclass:\n",
    "            count = count + 1\n",
    "\n",
    "print(count)\n"
   ]
  }
 ],
 "metadata": {
  "interpreter": {
   "hash": "0f4f9ba6877253e46a4d4cbe9c032df06bfc4d0e1ba733ff749f20f309e2b244"
  },
  "kernelspec": {
   "display_name": "Python 3.7.12 64-bit ('detectron2': pyenv)",
   "language": "python",
   "name": "python3"
  },
  "language_info": {
   "codemirror_mode": {
    "name": "ipython",
    "version": 3
   },
   "file_extension": ".py",
   "mimetype": "text/x-python",
   "name": "python",
   "nbconvert_exporter": "python",
   "pygments_lexer": "ipython3",
   "version": "3.7.12"
  },
  "orig_nbformat": 4
 },
 "nbformat": 4,
 "nbformat_minor": 2
}
